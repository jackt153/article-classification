{
 "cells": [
  {
   "cell_type": "code",
   "execution_count": 6,
   "metadata": {},
   "outputs": [],
   "source": [
    "import pandas as pd\n",
    "import time\n",
    "\n",
    "from urllib.request import urlopen\n",
    "from bs4 import BeautifulSoup"
   ]
  },
  {
   "cell_type": "markdown",
   "metadata": {},
   "source": [
    "### BBC News Main Page"
   ]
  },
  {
   "cell_type": "code",
   "execution_count": 7,
   "metadata": {},
   "outputs": [],
   "source": [
    "def getAndParseURL(url:str) -> BeautifulSoup:\n",
    "    \"\"\"Gets all the tags from the pages\n",
    "    \n",
    "    \n",
    "    \"\"\"\n",
    "    page = urlopen(url)\n",
    "    soup = BeautifulSoup(page, 'html.parser')\n",
    "    return(soup)"
   ]
  },
  {
   "cell_type": "code",
   "execution_count": 8,
   "metadata": {},
   "outputs": [],
   "source": [
    "main_pages = [\n",
    "'https://www.bbc.co.uk/news',\n",
    "'https://www.bbc.co.uk/news/coronavirus',\n",
    "'https://www.bbc.co.uk/news/uk',\n",
    "'https://www.bbc.co.uk/news/world',\n",
    "'https://www.bbc.co.uk/news/business'\n",
    "]"
   ]
  },
  {
   "cell_type": "code",
   "execution_count": 9,
   "metadata": {},
   "outputs": [],
   "source": [
    "bbc_main_page = getAndParseURL('https://www.bbc.co.uk/news')"
   ]
  },
  {
   "cell_type": "code",
   "execution_count": 10,
   "metadata": {
    "scrolled": false
   },
   "outputs": [
    {
     "data": {
      "text/plain": [
       "['https://www.bbc.co.uk/news/uk-politics-52262012',\n",
       " 'https://www.bbc.co.uk/news/newsbeat-52235125',\n",
       " 'https://www.bbc.co.uk/news/health-52254745',\n",
       " 'https://www.bbc.co.uk/news/newsbeat-52222547',\n",
       " 'https://www.bbc.co.uk/sport/football/52261413',\n",
       " 'https://www.bbc.co.uk/news/newsbeat-52220736',\n",
       " 'https://www.bbc.co.uk/news/health-51048366',\n",
       " 'https://www.bbc.co.ukhttps://www.bbc.co.uk/news/stories-50435014',\n",
       " 'https://www.bbc.co.uk/news/technology-52263244',\n",
       " 'https://www.bbc.co.uk/news/newsbeat-52220857',\n",
       " 'https://www.bbc.co.uk/news/uk-england-bristol-52263782',\n",
       " 'https://www.bbc.co.uk/sport/formula1/52264468',\n",
       " 'https://www.bbc.co.ukhttps://www.bbc.co.uk/iplayer/live/bbcnews',\n",
       " 'https://www.bbc.co.ukhttps://www.bbc.co.uk/news/stories-49825705',\n",
       " 'https://www.bbc.co.ukhttps://www.bbc.co.uk/ideas/videos/do-eggs-contain-the-secrets-of-the-universe/p076v5gf',\n",
       " 'https://www.bbc.co.uk/news/live/world-52259683',\n",
       " 'https://www.bbc.co.uk/sport/football/52260490',\n",
       " 'https://www.bbc.co.uk/news/world-51235105',\n",
       " 'https://www.bbc.co.ukhttps://www.bbc.co.uk/news/extra/Od4dL9Lip2/tunnel_29',\n",
       " 'https://www.bbc.co.uk/sport/football/52263959',\n",
       " 'https://www.bbc.co.uk/sport/football/52214237',\n",
       " 'https://www.bbc.co.uk/news/world-52233966',\n",
       " 'https://www.bbc.co.ukhttps://www.bbc.co.uk/sounds/play/live:bbc_radio_five_live',\n",
       " 'https://www.bbc.co.uk/news/uk-52264145',\n",
       " 'https://www.bbc.co.uk/sport/formula1/52261216',\n",
       " 'https://www.bbc.co.uk/news/uk-52261859',\n",
       " 'https://www.bbc.co.uk/sport/live/football/52200300',\n",
       " 'https://www.bbc.co.uk/news/stories-50435014',\n",
       " 'https://www.bbc.co.uk/news/uk-52257672',\n",
       " 'https://www.bbc.co.uk/news/uk-51506729',\n",
       " 'https://www.bbc.co.uk/news/uk-england-devon-52261055',\n",
       " 'https://www.bbc.co.uk/sport/cricket/52262219',\n",
       " 'https://www.bbc.co.uk/news/uk-52257781',\n",
       " 'https://www.bbc.co.ukhttps://www.bbc.co.uk/news/disability-47064773',\n",
       " 'https://www.bbc.co.uk/news/uk-england-52235617',\n",
       " 'https://www.bbc.co.uk/news/health-52242856',\n",
       " 'https://www.bbc.co.uk/news/world-us-canada-52231879',\n",
       " 'https://www.bbc.co.uk/news/newsbeat-52227896',\n",
       " 'https://www.bbc.co.uk/sport/formula1/52260896',\n",
       " 'https://www.bbc.co.uk/news/uk-england-oxfordshire-52260970',\n",
       " 'https://www.bbc.co.uk/news/uk-52262490',\n",
       " 'https://www.bbc.co.uk/news/uk-scotland-52262029',\n",
       " 'https://www.bbc.co.uk/news/business-52110990',\n",
       " 'https://www.bbc.co.uk/news/entertainment-arts-34640393',\n",
       " 'https://www.bbc.co.uk/news/world-europe-52260241',\n",
       " 'https://www.bbc.co.uk/news/uk-52234122',\n",
       " 'https://www.bbc.co.uk/news/uk-wales-52263285',\n",
       " 'https://www.bbc.co.ukhttps://www.bbc.co.uk/news/world-52103747',\n",
       " 'https://www.bbc.co.uk/news/world-europe-52226763',\n",
       " 'https://www.bbc.co.uk/news/uk-england-52231272',\n",
       " 'https://www.bbc.co.uk/news/uk-52264247',\n",
       " 'https://www.bbc.co.uk/news/uk-51768274']"
      ]
     },
     "execution_count": 10,
     "metadata": {},
     "output_type": "execute_result"
    }
   ],
   "source": [
    "links = bbc_main_page.find_all('a', { 'class': 'gs-c-promo-heading' })\n",
    "\n",
    "\n",
    "bbc_home_page_str = 'https://www.bbc.co.uk'\n",
    "bbc_news_links_list = list(set([\n",
    "    bbc_home_page_str + str(link['href']) for link in links\n",
    "]))\n",
    "bbc_news_links_list"
   ]
  },
  {
   "cell_type": "code",
   "execution_count": null,
   "metadata": {},
   "outputs": [],
   "source": [
    "time.sleep(5)"
   ]
  },
  {
   "cell_type": "markdown",
   "metadata": {},
   "source": [
    "### Once one article Page"
   ]
  },
  {
   "cell_type": "code",
   "execution_count": 20,
   "metadata": {},
   "outputs": [
    {
     "name": "stdout",
     "output_type": "stream",
     "text": [
      "https://www.bbc.co.uk/news/uk-52264145\n"
     ]
    }
   ],
   "source": [
    "trial_url = 'https://www.bbc.co.uk/news/uk-52264145'\n",
    "print(trial_url)"
   ]
  },
  {
   "cell_type": "code",
   "execution_count": null,
   "metadata": {},
   "outputs": [],
   "source": [
    "\n",
    "try:\n",
    "    page = urlopen(bbc_news_links_list[0])\n",
    "except:\n",
    "    print('Could not load page')"
   ]
  },
  {
   "cell_type": "code",
   "execution_count": null,
   "metadata": {},
   "outputs": [],
   "source": [
    "soup = BeautifulSoup(page, 'html.parser')"
   ]
  },
  {
   "cell_type": "markdown",
   "metadata": {},
   "source": [
    "The BBC news section:"
   ]
  },
  {
   "cell_type": "code",
   "execution_count": null,
   "metadata": {},
   "outputs": [],
   "source": [
    "section = soup.findAll('span',{'class': \"primary-nav__link-text\"})\n",
    "for sect in section:\n",
    "    print(sect)"
   ]
  },
  {
   "cell_type": "markdown",
   "metadata": {},
   "source": [
    "This retrivies the article title."
   ]
  },
  {
   "cell_type": "code",
   "execution_count": null,
   "metadata": {},
   "outputs": [],
   "source": [
    "headline = soup.find('h1', {\"class\": \"story-body__h1\"})\n",
    "print(f'Type: {type(headline)}')\n",
    "print(headline.text)"
   ]
  },
  {
   "cell_type": "markdown",
   "metadata": {},
   "source": [
    "Obtain the main body of the article"
   ]
  },
  {
   "cell_type": "code",
   "execution_count": null,
   "metadata": {},
   "outputs": [],
   "source": [
    "content = soup.find('div', {\"class\": \"story-body__inner\"})"
   ]
  },
  {
   "cell_type": "code",
   "execution_count": null,
   "metadata": {},
   "outputs": [],
   "source": [
    "article = ''\n",
    "for i in content.findAll('p'):\n",
    "    article = article + ' ' +  i.text.replace('\"','')\n",
    "    #article = article  + \" \".join([ word.replace('\"', '') for word in i.text.split()])"
   ]
  },
  {
   "cell_type": "code",
   "execution_count": null,
   "metadata": {},
   "outputs": [],
   "source": [
    "print(i.text.replace('\"',''))"
   ]
  },
  {
   "cell_type": "code",
   "execution_count": null,
   "metadata": {},
   "outputs": [],
   "source": [
    "print(\" \".join([word for word in article.split()]))"
   ]
  },
  {
   "cell_type": "markdown",
   "metadata": {},
   "source": [
    "### Loop to go through the articles"
   ]
  },
  {
   "cell_type": "code",
   "execution_count": 47,
   "metadata": {},
   "outputs": [
    {
     "name": "stdout",
     "output_type": "stream",
     "text": [
      "Coronavirus: Boris Johnson says 'it could have gone either way'\n",
      "Could not load page\n",
      "Coronavirus: Has the NHS got enough PPE?\n",
      "Final Fantasy 7 Remake: 'This is not just for the players of the original'\n",
      "Could not load page\n",
      "Cadet Rated Legend album: Krept on his cousin's life and legacy\n"
     ]
    }
   ],
   "source": [
    "full_list = []\n",
    "\n",
    "for link in bbc_news_links_list[0:6]:\n",
    "    temp_list = []\n",
    "    try:\n",
    "        soup = getAndParseURL(link)\n",
    "        temp_list.append(link)\n",
    "        time.sleep(5)\n",
    "        \n",
    "        headline = soup.find('h1', {\"class\": \"story-body__h1\"})\n",
    "        print(headline.text)\n",
    "        temp_list.append(headline.text)\n",
    "        \n",
    "        content = soup.find('div', {\"class\": \"story-body__inner\"})\n",
    "        article = ''\n",
    "        for i in content.findAll('p'):\n",
    "            article = article + ' ' +  i.text.replace('\"','')\n",
    "\n",
    "        temp_list.append(\" \".join([word for word in article.split()]))\n",
    "        full_list.append(temp_list)\n",
    "    except:\n",
    "        print('Could not load page')\n",
    "        \n"
   ]
  },
  {
   "cell_type": "code",
   "execution_count": 54,
   "metadata": {},
   "outputs": [
    {
     "data": {
      "text/plain": [
       "0    https://www.bbc.co.uk/news/uk-politics-52262012\n",
       "1         https://www.bbc.co.uk/news/health-52254745\n",
       "2       https://www.bbc.co.uk/news/newsbeat-52222547\n",
       "3       https://www.bbc.co.uk/news/newsbeat-52220736\n",
       "Name: link, dtype: object"
      ]
     },
     "execution_count": 54,
     "metadata": {},
     "output_type": "execute_result"
    }
   ],
   "source": [
    "df = pd.DataFrame(full_list, columns=['link','title', 'article'])\n",
    "df['link']"
   ]
  }
 ],
 "metadata": {
  "jupytext": {
   "text_representation": {
    "extension": ".py",
    "format_name": "light",
    "format_version": "1.5",
    "jupytext_version": "1.3.4"
   }
  },
  "kernelspec": {
   "display_name": "Python 3",
   "language": "python",
   "name": "python3"
  },
  "language_info": {
   "codemirror_mode": {
    "name": "ipython",
    "version": 3
   },
   "file_extension": ".py",
   "mimetype": "text/x-python",
   "name": "python",
   "nbconvert_exporter": "python",
   "pygments_lexer": "ipython3",
   "version": "3.7.6"
  }
 },
 "nbformat": 4,
 "nbformat_minor": 4
}
